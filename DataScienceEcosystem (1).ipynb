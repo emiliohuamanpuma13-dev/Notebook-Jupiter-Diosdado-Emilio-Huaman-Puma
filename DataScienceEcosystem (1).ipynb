{
 "cells": [
  {
   "cell_type": "markdown",
   "id": "502d9989-ed71-4c6d-99e6-d2fd962081d7",
   "metadata": {},
   "source": [
    "# Projecto Jupiter"
   ]
  },
  {
   "cell_type": "markdown",
   "id": "1a3f5c37-ce75-4bf8-bf5c-a1878798ddb9",
   "metadata": {},
   "source": [
    "## Introduction\n",
    "Este es el cuaderno (notebook)  sobre el proyecto final en Jupyter , que pertenece al minicurso de \"Tools for Data Science, en este cuaderno se resumen las herramientas y el ecosistema de la ciencia de datos.\n",
    "\n"
   ]
  },
  {
   "cell_type": "markdown",
   "id": "38b14ba8-c966-4a43-a011-67e555380417",
   "metadata": {},
   "source": [
    "**Objetivos:**\n",
    "\n",
    "- Enumerar lenguajes populares para Data Science (p.ej., Python y R).\n",
    "- Utilizar Jupyter Notebook como entorno interactivo para análisis y documentación.\n",
    "- Crear y formatear tablas y contenido en Markdown dentro del cuaderno.\n"
   ]
  },
  {
   "cell_type": "markdown",
   "id": "e0734ac0-e587-4f05-8847-f655444cf207",
   "metadata": {},
   "source": [
    "## Languages for Data Science\n",
    "Some of the popular languajes that Data Scientists use are \n",
    "1. Python\n",
    "2. R\n",
    "3. SQL\n",
    "4. Scala\n",
    "5. Java\n",
    "6. Julia\n",
    "7. Javascripe\n",
    "8. PHP\n",
    "9. Go\n",
    "10. Ruby\n",
    "11. Visual Basic\n",
    "\n"
   ]
  },
  {
   "cell_type": "markdown",
   "id": "459b8157-1212-4266-835a-4647dd7f262a",
   "metadata": {
    "jp-MarkdownHeadingCollapsed": true
   },
   "source": [
    "## Libraries for Data Science\n",
    "Some of the commonly used libraries used by Data Scientists include: \n",
    "1. Pandas\n",
    "2. Numpy\n",
    "3. Matplotlib\n",
    "4. Seaborn\n",
    "5. Scikit-learn\n",
    "6. Keras\n",
    "7. TensorFlow\n",
    "8. PyTorch\n",
    "9. Apache Spark\n",
    "10. Vegas\n",
    "11. Big DL\n",
    "12. Ggplot2\n"
   ]
  },
  {
   "cell_type": "markdown",
   "id": "189de066-56e8-4bec-82c9-a3750b34df2f",
   "metadata": {},
   "source": [
    "## Herramientas para Data Science Tools \n",
    "| Data Science Tools|\n",
    "|-------------------|\n",
    "| Anaconda          |   \n",
    "| Jupyter Notebooks |                 \n",
    "| R Studie          |  \n",
    "| Spyder            |    \n",
    "| Zeppelin          |   "
   ]
  },
  {
   "cell_type": "code",
   "execution_count": 11,
   "id": "b609328b-ebe5-4872-8f02-9971f26ff989",
   "metadata": {
    "scrolled": true
   },
   "outputs": [
    {
     "data": {
      "text/plain": [
       "17"
      ]
     },
     "execution_count": 11,
     "metadata": {},
     "output_type": "execute_result"
    }
   ],
   "source": [
    "\n",
    "# E s to es u n a e x p r e s i o n a r i t m e t i c a q u e d a 17\n",
    "8 + 9\n",
    "\n"
   ]
  },
  {
   "cell_type": "code",
   "execution_count": 13,
   "id": "70922725-76b3-4e83-a4a7-2d3653049529",
   "metadata": {
    "jp-MarkdownHeadingCollapsed": true
   },
   "outputs": [
    {
     "data": {
      "text/plain": [
       "3.3333333333333335"
      ]
     },
     "execution_count": 13,
     "metadata": {},
     "output_type": "execute_result"
    }
   ],
   "source": [
    "# E s t o c o n v e r t i r a  200  m i n u t o s a horas d i v i d i e n d o e n t r e  60\n",
    "200/60"
   ]
  },
  {
   "cell_type": "markdown",
   "id": "d729a5d0-7e53-4354-afae-830260570a30",
   "metadata": {},
   "source": [
    "## Author\n",
    "Diosdado Emilio Huaman Puma\n"
   ]
  },
  {
   "cell_type": "code",
   "execution_count": null,
   "id": "dbfad741-00f9-40e7-bd6f-f1e9d75d30c3",
   "metadata": {},
   "outputs": [],
   "source": []
  }
 ],
 "metadata": {
  "kernelspec": {
   "display_name": "Python 3 (ipykernel)",
   "language": "python",
   "name": "python3"
  },
  "language_info": {
   "codemirror_mode": {
    "name": "ipython",
    "version": 3
   },
   "file_extension": ".py",
   "mimetype": "text/x-python",
   "name": "python",
   "nbconvert_exporter": "python",
   "pygments_lexer": "ipython3",
   "version": "3.12.8"
  }
 },
 "nbformat": 4,
 "nbformat_minor": 5
}
