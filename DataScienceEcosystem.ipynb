{
 "cells": [
  {
   "cell_type": "markdown",
   "id": "502d9989-ed71-4c6d-99e6-d2fd962081d7",
   "metadata": {},
   "source": [
    "# Projecto Jupiter"
   ]
  },
  {
   "cell_type": "markdown",
   "id": "1a3f5c37-ce75-4bf8-bf5c-a1878798ddb9",
   "metadata": {
    "jp-MarkdownHeadingCollapsed": true
   },
   "source": [
    "## Introduction\n",
    "Este es el cuaderno (notebook)  sobre el proyecto final en Jupyter , que pertenece al minicurso de \"Tools for Data Science, en este cuaderno se resumen las herramientas y el ecosistema de la ciencia de datos.\n",
    "\n"
   ]
  },
  {
   "cell_type": "markdown",
   "id": "e0734ac0-e587-4f05-8847-f655444cf207",
   "metadata": {},
   "source": [
    "## Lenguajes para Data Science\n",
    "-SQL\n",
    "-Python\n",
    "-R\n",
    "-Java\n",
    "-Julia"
   ]
  },
  {
   "cell_type": "markdown",
   "id": "2a8aa99a-b433-4701-a2c7-7e289ecb0dd5",
   "metadata": {
    "jp-MarkdownHeadingCollapsed": true
   },
   "source": [
    "## Librerias para Data Science\n",
    "-Pytorch\n",
    "-Seaborn\n",
    "-Pandas\n",
    "-Numpy\n",
    "-Matplotlib"
   ]
  },
  {
   "cell_type": "markdown",
   "id": "189de066-56e8-4bec-82c9-a3750b34df2f",
   "metadata": {},
   "source": [
    "## Herramientas para Data Science Tools \n",
    "| Tool             | Category              |\n",
    "|------------------|-----------------------|\n",
    "| RStudio          | IDE                   |\n",
    "| Jupyter Notebook | IDE/Interactive Coding|                   \n",
    "| Apache Spark     | Big Data Processing   |\n",
    "| TensorFlow       | Machine Learning      |\n"
   ]
  },
  {
   "cell_type": "markdown",
   "id": "474c0476-614e-4e68-b204-bc4af65d11c9",
   "metadata": {},
   "source": [
    "## Ejemplos de expresiones aritmeticas\n",
    "-Adicion:'2 + 4'\n",
    "-Sustraccion:'7 - 3'\n",
    "-Multiplicacion:'8 * 4'\n",
    "-Division: '6 / 3' "
   ]
  },
  {
   "cell_type": "markdown",
   "id": "024eaafd-1294-42f2-b08e-9964b1c65fc4",
   "metadata": {},
   "source": [
    "## Multiplicar numeros \n",
    "4 * 16\n",
    "## Sumar numeros\n",
    "7 + 15"
   ]
  },
  {
   "cell_type": "markdown",
   "id": "c25a55b4-ecbf-4882-bd8d-2a4ab2e61e0a",
   "metadata": {},
   "source": [
    "## Convertir de minutos a horas\n",
    "minutos = 200\n",
    "horas = minutos / 60 "
   ]
  },
  {
   "cell_type": "markdown",
   "id": "e64907fa-9b55-4bdf-ac4e-81d9ffe0c0a2",
   "metadata": {},
   "source": [
    "## Lista de objetivos\n",
    "objetivos = [\"Aprender lenguajes de Data Science\", \"Practicar con bibliotecas\", \"Realizar cálculos sencillos\" \"Trabajar con herramientas\"]\n",
    "objetivos"
   ]
  },
  {
   "cell_type": "markdown",
   "id": "d729a5d0-7e53-4354-afae-830260570a30",
   "metadata": {},
   "source": [
    "## Autor\n",
    "\"Diosdado Emilio Huaman Puma\""
   ]
  }
 ],
 "metadata": {
  "kernelspec": {
   "display_name": "Python 3 (ipykernel)",
   "language": "python",
   "name": "python3"
  },
  "language_info": {
   "codemirror_mode": {
    "name": "ipython",
    "version": 3
   },
   "file_extension": ".py",
   "mimetype": "text/x-python",
   "name": "python",
   "nbconvert_exporter": "python",
   "pygments_lexer": "ipython3",
   "version": "3.12.8"
  }
 },
 "nbformat": 4,
 "nbformat_minor": 5
}
